{
  "nbformat": 4,
  "nbformat_minor": 0,
  "metadata": {
    "colab": {
      "provenance": []
    },
    "kernelspec": {
      "name": "python3",
      "display_name": "Python 3"
    },
    "language_info": {
      "name": "python"
    }
  },
  "cells": [
    {
      "cell_type": "markdown",
      "source": [
        "#Data Types and Structures\n"
      ],
      "metadata": {
        "id": "tCTBeX5NuZB5"
      }
    },
    {
      "cell_type": "markdown",
      "source": [
        "1. What are data structures, and why are they important?\n",
        "\n",
        "- Data structures are ways of organizing and storing data so they can be used efficiently.\n",
        "They’re important because they:\n",
        "\n",
        "  Enable efficient access, modification, and storage of data.\n",
        "\n",
        "  Improve performance of algorithms.\n",
        "\n",
        "  Provide flexibility in solving different types of problems (e.g., searching, sorting)."
      ],
      "metadata": {
        "id": "cJGS_N5EuD3V"
      }
    },
    {
      "cell_type": "markdown",
      "source": [
        "2. Difference between mutable and immutable data types with examples.\n",
        "\n",
        "- Mutable: Can be changed after creation.\n",
        "Example: list = [1, 2, 3]; list[0] = 5 → [5, 2, 3].\n",
        "\n",
        "  Immutable: Cannot be changed once created.\n",
        "  Example: string = \"hello\"; string[0] = 'H'  (error)."
      ],
      "metadata": {
        "id": "0DHdD-QbuEcW"
      }
    },
    {
      "cell_type": "markdown",
      "source": [
        "3. Differences between lists and tuples in Python.\n",
        "\n",
        "- List: Mutable, slower, written as [ ].\n",
        "\n",
        "   Tuple: Immutable, faster, written as ( )."
      ],
      "metadata": {
        "id": "Ac1aJ2DAwSw4"
      }
    },
    {
      "cell_type": "markdown",
      "source": [
        "4. How dictionaries store data.\n",
        "\n",
        "- Dictionaries store data in key–value pairs using a hash table internally.\n",
        "Example:\n",
        "\n",
        "  student = {\"name\": \"Alice\", \"age\": 20}"
      ],
      "metadata": {
        "id": "AhojpNCSwUbH"
      }
    },
    {
      "cell_type": "markdown",
      "source": [
        "5. Why use a set instead of a list?\n",
        "\n",
        "- Sets remove duplicates automatically.\n",
        "\n",
        "  Faster membership checks (in) because they use hashing."
      ],
      "metadata": {
        "id": "vP0C9k1Owz23"
      }
    },
    {
      "cell_type": "markdown",
      "source": [
        "6. What is a string, and how is it different from a list?\n",
        "\n",
        "- String: Sequence of characters,      immutable.\n",
        "\n",
        "  List: Sequence of elements (any type), mutable."
      ],
      "metadata": {
        "id": "QwiasHwHxIco"
      }
    },
    {
      "cell_type": "markdown",
      "source": [
        "7. How do tuples ensure data integrity?\n",
        "\n",
        "- Since tuples are immutable, once data is set, it cannot be changed — ensuring the data remains intact."
      ],
      "metadata": {
        "id": "KtJGSM4gxT0D"
      }
    },
    {
      "cell_type": "markdown",
      "source": [
        "8. What is a hash table, and how does it relate to dictionaries?\n",
        "\n",
        "- Hash table: Stores data using hash values of keys for quick access.\n",
        "\n",
        "  Dictionaries in Python are implemented as hash tables."
      ],
      "metadata": {
        "id": "XJNFaKtHxUGE"
      }
    },
    {
      "cell_type": "markdown",
      "source": [
        "9. Can lists contain different data types?\n",
        "\n",
        "- Yes. Example:\n",
        "\n",
        "   mixed = [1, \"hello\", 3.14, True]"
      ],
      "metadata": {
        "id": "h5D5NwfBxUNJ"
      }
    },
    {
      "cell_type": "markdown",
      "source": [
        "10. Why are strings immutable?\n",
        "\n",
        "- Strings are immutable to:\n",
        "\n",
        "  Ensure memory efficiency (string interning).\n",
        "\n",
        "  Improve security (cannot be altered by reference)."
      ],
      "metadata": {
        "id": "4pxy1QfmxUQi"
      }
    },
    {
      "cell_type": "markdown",
      "source": [
        "11. Advantages of dictionaries over lists.\n",
        "\n",
        "- Faster lookups using keys (O(1)).\n",
        "\n",
        "  More meaningful data organization with key–value pairs."
      ],
      "metadata": {
        "id": "RyI78N2_xUTy"
      }
    },
    {
      "cell_type": "markdown",
      "source": [
        "12. Describe a scenario where using a tuple would be preferable?\n",
        "- A tuple is preferable over a list when you need to store a collection of items that should not be changed. This property is called immutability.\n",
        "\n",
        "  A perfect scenario is storing a set of geographic coordinates.\n",
        "\n",
        " List (mutable)\n",
        " location_list = [28.6139, 77.2090]\n",
        " location_list[0] = 28.7041  # Allowed\n",
        "\n",
        " Tuple (immutable)\n",
        " location_tuple = (28.6139, 77.2090)\n",
        " location_tuple[0] = 28.7041  #  TypeError"
      ],
      "metadata": {
        "id": "tzGBLENExUXQ"
      }
    },
    {
      "cell_type": "markdown",
      "source": [
        "13. How do sets handle duplicate values in Python?\n",
        "\n",
        "- Sets are collections of unique elements. When you create a set or add elements to it, Python automatically discards any duplicate values. The set only stores one instance of each element.\n",
        "\n",
        "- Creating a set from a list with duplicates\n",
        "numbers_list = [10, 20, 30, 20, 10, 40]\n",
        "unique_numbers = set(numbers_list)\n",
        "\n",
        "   print(unique_numbers)\n",
        "  Output: {40, 10, 20, 30} (order may vary in older Python versions)"
      ],
      "metadata": {
        "id": "Yi_3unYkxUah"
      }
    },
    {
      "cell_type": "markdown",
      "source": [
        "14. How does the “in” keyword work differently for lists and dictionaries in python?\n",
        "- In Python, the in keyword is used to test membership, but its behavior differs for lists and dictionaries:\n",
        "\n",
        "  Lists: in checks whether a value exists among the list’s elements.\n",
        "\n",
        "  fruits = [\"apple\", \"banana\", \"cherry\"]\n",
        "   print(\"apple\" in fruits)   # True\n",
        "\n",
        "   Dictionaries: in checks only for the presence of keys, not values.\n",
        "\n",
        "   student = {\"name\": \"Alice\", \"age\": 21}\n",
        "  print(\"name\" in student)        # True\n",
        "  print(\"Alice\" in student)       # False\n",
        "  print(\"Alice\" in student.values())  # True"
      ],
      "metadata": {
        "id": "aS73uiCs2JEt"
      }
    },
    {
      "cell_type": "markdown",
      "source": [
        "15. Can you modify the elements of a tuple? Explain why or why not.\n",
        "Answer:\n",
        "\n",
        "- No, you cannot modify the elements of a tuple in Python because tuples are immutable. Once a tuple is created, its contents cannot be changed, added, or removed. This immutability ensures data integrity and makes tuples useful for storing fixed collections such as coordinates, dates, or configuration values.\n",
        "\n",
        " Example:\n",
        "\n",
        " t = (10, 20, 30)\n",
        " t[0] = 50   # TypeError: 'tuple' object does not support item assignment"
      ],
      "metadata": {
        "id": "gwFGAGeZ3Abm"
      }
    },
    {
      "cell_type": "markdown",
      "source": [
        "What is a nested dictionary, and give an example of its use case?\n",
        "Answer:\n",
        "\n",
        "- A nested dictionary is a dictionary inside another dictionary. It allows storing data in a hierarchical or structured way, similar to JSON objects. Nested dictionaries are useful when representing complex data with multiple attributes.\n",
        "\n",
        "- Example (Use Case – Student Records):\n",
        "\n",
        "  students = {\n",
        "    \"Alice\": {\"age\": 20, \"grade\": \"A\"},\n",
        "    \"Bob\": {\"age\": 22, \"grade\": \"B\"}\n",
        "\n",
        "  print(students[\"Alice\"][\"grade\"])  # Output: A"
      ],
      "metadata": {
        "id": "t4R-zob43Aem"
      }
    },
    {
      "cell_type": "markdown",
      "source": [
        "17. Describe the time complexity of accessing elements in a dictionary.\n",
        "Answer:\n",
        "\n",
        "- In Python, dictionaries are implemented using hash tables, which allow very fast lookups. Accessing an element by key generally takes O(1) time on average (constant time), because the key is hashed to find its location directly.\n",
        "\n",
        "  However, in rare cases of hash collisions, performance may degrade to O(n), but Python’s hashing mechanism makes this uncommon.\n",
        "\n",
        "  Example:\n",
        "\n",
        "  student = {\"name\": \"Alice\", \"age\": 21}\n",
        "  print(student[\"name\"])   # Access in O(1)"
      ],
      "metadata": {
        "id": "71Gm91XQ3Ahm"
      }
    },
    {
      "cell_type": "markdown",
      "source": [
        "18. In what situations are lists preferred over dictionaries?\n",
        "Answer:\n",
        "\n",
        "- Lists are preferred over dictionaries when:\n",
        "\n",
        " Order matters – lists maintain elements in a sequence and can be accessed by index.\n",
        "\n",
        " Duplicate values are allowed – unlike dictionary keys, list elements can repeat.\n",
        "\n",
        " Simple collections – when storing data without needing key–value pairs.\n",
        "\n",
        " Iterating in order – lists are better when you need to process items sequentially.\n",
        "\n",
        " Example:\n",
        "\n",
        " fruits = [\"apple\", \"banana\", \"apple\", \"cherry\"]\n",
        " print(fruits[0])   # Access by index"
      ],
      "metadata": {
        "id": "3-yDGyCy3AlK"
      }
    },
    {
      "cell_type": "markdown",
      "source": [
        "19. Why are dictionaries considered unordered, and how does that affect data retrieval?\n",
        "Answer:\n",
        "\n",
        "- Traditionally, dictionaries in Python were considered unordered because they used a hash table to store data, and the order of keys was not guaranteed. This meant you could not rely on items being retrieved in the same order they were inserted.\n",
        "\n",
        "  From Python 3.7+, dictionaries preserve insertion order as an implementation detail (and officially guaranteed from Python 3.8). However, they are still accessed by keys, not by index, so data retrieval is based on the key lookup, not position.\n",
        "\n",
        "  Example:\n",
        "\n",
        " student = {\"name\": \"Alice\", \"age\": 21, \"grade\": \"A\"}\n",
        " print(student[\"age\"])   # Retrieved by key, not by order"
      ],
      "metadata": {
        "id": "GqJK9R2L3Aoh"
      }
    },
    {
      "cell_type": "markdown",
      "source": [
        "20. Difference between a list and a dictionary in terms of data retrieval?\n",
        "- List: Elements are accessed by index. Retrieval requires knowing the position of the item, and searching for a value may take O(n) time.\n",
        "\n",
        "  fruits = [\"apple\", \"banana\", \"cherry\"]\n",
        "  print(fruits[1])  # Output: banana\n",
        "\n",
        "\n",
        "  Dictionary: Elements are accessed by key. Retrieval is usually very fast, O(1) on average, because Python uses a hash table for keys.\n",
        "\n",
        "  student = {\"name\": \"Alice\", \"age\": 21}\n",
        "  print(student[\"name\"])  # Output: Alice"
      ],
      "metadata": {
        "id": "ngB_M4tR3Arn"
      }
    },
    {
      "cell_type": "markdown",
      "source": [
        "Practical Questions"
      ],
      "metadata": {
        "id": "v3OeYrYS6R_F"
      }
    },
    {
      "cell_type": "code",
      "source": [
        "# Write a code to create a string with your name and print it.\n",
        "name = \"Nisita\"\n",
        "print(name)"
      ],
      "metadata": {
        "colab": {
          "base_uri": "https://localhost:8080/"
        },
        "id": "jorKgMnn7EKz",
        "outputId": "2717836d-e818-41ab-a87c-07415d39ec4a"
      },
      "execution_count": 1,
      "outputs": [
        {
          "output_type": "stream",
          "name": "stdout",
          "text": [
            "Nisita\n"
          ]
        }
      ]
    },
    {
      "cell_type": "code",
      "source": [
        "# Write a code to find the length of the string \"Hello World\".\n",
        "print(len(\"Hello World\"))"
      ],
      "metadata": {
        "colab": {
          "base_uri": "https://localhost:8080/"
        },
        "id": "46VPUylP7VQ8",
        "outputId": "296095e6-5afe-4561-9eb5-18dfbd00545c"
      },
      "execution_count": 2,
      "outputs": [
        {
          "output_type": "stream",
          "name": "stdout",
          "text": [
            "11\n"
          ]
        }
      ]
    },
    {
      "cell_type": "code",
      "source": [
        "# Write a code to slice the first 3 characters from the string \"Python Programming\".\n",
        "print(\"Python Programming\"[:3])\n"
      ],
      "metadata": {
        "colab": {
          "base_uri": "https://localhost:8080/"
        },
        "id": "C8_mfycn7lqs",
        "outputId": "d9d348ba-c4c8-4917-e519-43d50e204bd6"
      },
      "execution_count": 3,
      "outputs": [
        {
          "output_type": "stream",
          "name": "stdout",
          "text": [
            "Pyt\n"
          ]
        }
      ]
    },
    {
      "cell_type": "code",
      "source": [
        "# Write a code to convert the string \"hello\" to uppercase.\n",
        "print(\"hello\".upper())"
      ],
      "metadata": {
        "colab": {
          "base_uri": "https://localhost:8080/"
        },
        "id": "K_6z_IzX71kK",
        "outputId": "e60b56e9-1437-473f-8a98-01d0d2b52d41"
      },
      "execution_count": 4,
      "outputs": [
        {
          "output_type": "stream",
          "name": "stdout",
          "text": [
            "HELLO\n"
          ]
        }
      ]
    },
    {
      "cell_type": "code",
      "source": [
        "# Write a code to replace the word \"apple\" with \"orange\" in the string \"I like apple\"\n",
        "print(\"I like apple\".replace(\"apple\", \"orange\"))"
      ],
      "metadata": {
        "colab": {
          "base_uri": "https://localhost:8080/"
        },
        "id": "lTlLPuk38Evo",
        "outputId": "653eab44-3e75-4cbc-89b5-b772c5261ad3"
      },
      "execution_count": 5,
      "outputs": [
        {
          "output_type": "stream",
          "name": "stdout",
          "text": [
            "I like orange\n"
          ]
        }
      ]
    },
    {
      "cell_type": "code",
      "source": [
        "# Write a code to create a list with numbers 1 to 5 and print it.\n",
        "numbers = [1, 2, 3, 4, 5]\n",
        "print(numbers)"
      ],
      "metadata": {
        "colab": {
          "base_uri": "https://localhost:8080/"
        },
        "id": "RJwQTgOe8Wtd",
        "outputId": "73ce5daa-e43a-4e8d-c5f7-804b4634ed91"
      },
      "execution_count": 6,
      "outputs": [
        {
          "output_type": "stream",
          "name": "stdout",
          "text": [
            "[1, 2, 3, 4, 5]\n"
          ]
        }
      ]
    },
    {
      "cell_type": "code",
      "source": [
        "# Write a code to append the number 10 to the list [1, 2, 3, 4].\n",
        "lst = [1, 2, 3, 4]\n",
        "lst.append(10)\n",
        "print(lst)"
      ],
      "metadata": {
        "colab": {
          "base_uri": "https://localhost:8080/"
        },
        "id": "mlQnW8Uj8mTA",
        "outputId": "f675d31e-7864-4994-8d8e-fb0d55f45968"
      },
      "execution_count": 7,
      "outputs": [
        {
          "output_type": "stream",
          "name": "stdout",
          "text": [
            "[1, 2, 3, 4, 10]\n"
          ]
        }
      ]
    },
    {
      "cell_type": "code",
      "source": [
        "# Write a code to remove the number 3 from the list [1, 2, 3, 4, 5].\n",
        "lst = [1, 2, 3, 4, 5]\n",
        "lst.remove(3)\n",
        "print(lst)"
      ],
      "metadata": {
        "colab": {
          "base_uri": "https://localhost:8080/"
        },
        "id": "hwvychYy87m1",
        "outputId": "987b4423-c350-497a-a22e-54cd29cde4a4"
      },
      "execution_count": 8,
      "outputs": [
        {
          "output_type": "stream",
          "name": "stdout",
          "text": [
            "[1, 2, 4, 5]\n"
          ]
        }
      ]
    },
    {
      "cell_type": "code",
      "source": [
        "# Write a code to access the second element in the list ['a', 'b', 'c', 'd'].\n",
        "letters = ['a', 'b', 'c', 'd']\n",
        "print(letters[1])"
      ],
      "metadata": {
        "colab": {
          "base_uri": "https://localhost:8080/"
        },
        "id": "2wKNnza-9NB6",
        "outputId": "b49b7869-0771-4528-bbc1-a644399066e4"
      },
      "execution_count": 9,
      "outputs": [
        {
          "output_type": "stream",
          "name": "stdout",
          "text": [
            "b\n"
          ]
        }
      ]
    },
    {
      "cell_type": "code",
      "source": [
        "# Write a code to reverse the list [10, 20, 30, 40, 50].\n",
        "lst3 = [10, 20, 30, 40, 50]\n",
        "lst3.reverse()\n",
        "print(lst3)"
      ],
      "metadata": {
        "colab": {
          "base_uri": "https://localhost:8080/"
        },
        "id": "_LhDO6yS9dGY",
        "outputId": "6ac44742-4331-4dfd-f2bf-2151fb72e647"
      },
      "execution_count": 10,
      "outputs": [
        {
          "output_type": "stream",
          "name": "stdout",
          "text": [
            "[50, 40, 30, 20, 10]\n"
          ]
        }
      ]
    },
    {
      "cell_type": "code",
      "source": [
        "# Write a code to create a tuple with the elements 100, 200, 300 and print it.\n",
        "t = (100, 200, 300)\n",
        "print(t)"
      ],
      "metadata": {
        "colab": {
          "base_uri": "https://localhost:8080/"
        },
        "id": "7P6RY59R9r0_",
        "outputId": "567a5039-71b9-4668-f939-7058f79c0876"
      },
      "execution_count": 11,
      "outputs": [
        {
          "output_type": "stream",
          "name": "stdout",
          "text": [
            "(100, 200, 300)\n"
          ]
        }
      ]
    },
    {
      "cell_type": "code",
      "source": [
        "# Write a code to access the second-to-last element of the tuple ('red', 'green', 'blue', 'yellow').\n",
        "t2 = ('red', 'green', 'blue', 'yellow')\n",
        "print(t2[-2])"
      ],
      "metadata": {
        "colab": {
          "base_uri": "https://localhost:8080/"
        },
        "id": "7C4zOWOi-c8Z",
        "outputId": "5950750d-5362-4b46-e17c-1f430a4eb34d"
      },
      "execution_count": 12,
      "outputs": [
        {
          "output_type": "stream",
          "name": "stdout",
          "text": [
            "blue\n"
          ]
        }
      ]
    },
    {
      "cell_type": "code",
      "source": [
        "# Write a code to find the minimum number in the tuple (10, 20, 5, 15)\n",
        "t3 = (10, 20, 5, 15)\n",
        "print(min(t3))"
      ],
      "metadata": {
        "colab": {
          "base_uri": "https://localhost:8080/"
        },
        "id": "EYwdUZkU-r1t",
        "outputId": "71217bc6-7223-493c-f0e9-893e338a59f9"
      },
      "execution_count": 14,
      "outputs": [
        {
          "output_type": "stream",
          "name": "stdout",
          "text": [
            "5\n"
          ]
        }
      ]
    },
    {
      "cell_type": "code",
      "source": [
        "# Write a code to find the index of the element \"cat\" in the tuple ('dog', 'cat', 'rabbit').\n",
        "animals = ('dog', 'cat', 'rabbit')\n",
        "index_cat = animals.index(\"cat\")\n",
        "print(\"The index of 'cat' is:\", index_cat)\n",
        "\n"
      ],
      "metadata": {
        "colab": {
          "base_uri": "https://localhost:8080/"
        },
        "id": "r75SuXmo_LBY",
        "outputId": "1b497626-ebcd-4f72-945b-9d6aaa162355"
      },
      "execution_count": 15,
      "outputs": [
        {
          "output_type": "stream",
          "name": "stdout",
          "text": [
            "The index of 'cat' is: 1\n"
          ]
        }
      ]
    },
    {
      "cell_type": "code",
      "source": [
        "# Write a code to create a tuple containing three different fruits and check if \"kiwi\" is in it.\n",
        "fruits = (\"apple\", \"banana\", \"mango\")\n",
        "print(\"Is 'kiwi' in fruits?\", \"kiwi\" in fruits)"
      ],
      "metadata": {
        "colab": {
          "base_uri": "https://localhost:8080/"
        },
        "id": "VAuPTwVs_3pq",
        "outputId": "a5c3cf3a-052b-4430-b9c3-9244e30bbdbb"
      },
      "execution_count": 17,
      "outputs": [
        {
          "output_type": "stream",
          "name": "stdout",
          "text": [
            "Is 'kiwi' in fruits? False\n"
          ]
        }
      ]
    },
    {
      "cell_type": "code",
      "source": [
        "# Write a code to create a set with the elements 'a', 'b', 'c' and print it.\n",
        "s1 = {'a', 'b', 'c'}\n",
        "print(s1)"
      ],
      "metadata": {
        "colab": {
          "base_uri": "https://localhost:8080/"
        },
        "id": "q-8jwh39ASSk",
        "outputId": "6bc4c325-3808-44bf-b6fc-3f957ff96b78"
      },
      "execution_count": 18,
      "outputs": [
        {
          "output_type": "stream",
          "name": "stdout",
          "text": [
            "{'b', 'a', 'c'}\n"
          ]
        }
      ]
    },
    {
      "cell_type": "code",
      "source": [
        "# Write a code to clear all elements from the set {1, 2, 3, 4, 5}.\n",
        "s2 = {1, 2, 3, 4, 5}\n",
        "s2.clear()\n",
        "print(s2)"
      ],
      "metadata": {
        "colab": {
          "base_uri": "https://localhost:8080/"
        },
        "id": "7M-tiiD7BTOB",
        "outputId": "3c72f228-6f78-408b-a49c-84d9b7a7d725"
      },
      "execution_count": 19,
      "outputs": [
        {
          "output_type": "stream",
          "name": "stdout",
          "text": [
            "set()\n"
          ]
        }
      ]
    },
    {
      "cell_type": "code",
      "source": [
        "# Write a code to remove the element 4 from the set {1, 2, 3, 4}.\n",
        "s3 = {1, 2, 3, 4}\n",
        "s3.remove(4)\n",
        "print(s3)"
      ],
      "metadata": {
        "colab": {
          "base_uri": "https://localhost:8080/"
        },
        "id": "K61MX4naBj-U",
        "outputId": "d6fdc0b5-4ab9-4fd5-ecc8-4d6a4bb78791"
      },
      "execution_count": 20,
      "outputs": [
        {
          "output_type": "stream",
          "name": "stdout",
          "text": [
            "{1, 2, 3}\n"
          ]
        }
      ]
    },
    {
      "cell_type": "code",
      "source": [
        "# Write a code to find the union of two sets {1, 2, 3} and {3, 4, 5}.\n",
        "set1 = {1, 2, 3}\n",
        "set2 = {3, 4, 5}\n",
        "print(set1.union(set2))"
      ],
      "metadata": {
        "colab": {
          "base_uri": "https://localhost:8080/"
        },
        "id": "EndKYLDDBudk",
        "outputId": "dd2255fc-479d-4445-fc39-86ee9623f3b7"
      },
      "execution_count": 21,
      "outputs": [
        {
          "output_type": "stream",
          "name": "stdout",
          "text": [
            "{1, 2, 3, 4, 5}\n"
          ]
        }
      ]
    },
    {
      "cell_type": "code",
      "source": [
        "# Write a code to find the intersection of two sets {1, 2, 3} and {2, 3, 4}.\n",
        "set1 = {1, 2, 3}\n",
        "set2 = {2, 3, 4}\n",
        "intersection = set1.intersection(set2)\n",
        "print(\"Intersection of\", set1, \"and\", set2, \"is:\", intersection)"
      ],
      "metadata": {
        "colab": {
          "base_uri": "https://localhost:8080/"
        },
        "id": "7AE7exmKB8Em",
        "outputId": "e6f8038a-988b-41b8-821c-aefe7d731229"
      },
      "execution_count": 25,
      "outputs": [
        {
          "output_type": "stream",
          "name": "stdout",
          "text": [
            "Intersection of {1, 2, 3} and {2, 3, 4} is: {2, 3}\n"
          ]
        }
      ]
    },
    {
      "cell_type": "code",
      "source": [
        "# Write a code to create a dictionary with the keys \"name\", \"age\", and \"city\", and print it.\n",
        "student = {\"name\": \"Alice\", \"age\": 20, \"city\": \"Paris\"}\n",
        "print(student)"
      ],
      "metadata": {
        "colab": {
          "base_uri": "https://localhost:8080/"
        },
        "id": "FGPUL7bpCMQU",
        "outputId": "1a7cd04a-3861-4926-a27c-cdad7c97f7c6"
      },
      "execution_count": 26,
      "outputs": [
        {
          "output_type": "stream",
          "name": "stdout",
          "text": [
            "{'name': 'Alice', 'age': 20, 'city': 'Paris'}\n"
          ]
        }
      ]
    },
    {
      "cell_type": "code",
      "source": [
        "# Write a code to add a new key-value pair \"country\": \"USA\" to the dictionary {'name': 'John', 'age': 25}.\n",
        "person = {'name': 'John', 'age': 25}\n",
        "person[\"country\"] = \"USA\"\n",
        "print(person)"
      ],
      "metadata": {
        "colab": {
          "base_uri": "https://localhost:8080/"
        },
        "id": "CkwjJIDCCwrz",
        "outputId": "f8809f53-e747-44f8-a412-a086d6d7e634"
      },
      "execution_count": 27,
      "outputs": [
        {
          "output_type": "stream",
          "name": "stdout",
          "text": [
            "{'name': 'John', 'age': 25, 'country': 'USA'}\n"
          ]
        }
      ]
    },
    {
      "cell_type": "code",
      "source": [
        "# Write a code to access the value associated with the key \"name\" in the dictionary {'name': 'Alice', 'age': 30}.\n",
        "person2 = {'name': 'Alice', 'age': 30}\n",
        "print(person2[\"name\"])"
      ],
      "metadata": {
        "colab": {
          "base_uri": "https://localhost:8080/"
        },
        "id": "kK2sZuveC6ty",
        "outputId": "7910a423-f226-43f7-e821-30fd0bfbf805"
      },
      "execution_count": 28,
      "outputs": [
        {
          "output_type": "stream",
          "name": "stdout",
          "text": [
            "Alice\n"
          ]
        }
      ]
    },
    {
      "cell_type": "code",
      "source": [
        "# Write a code to remove the key \"age\" from the dictionary {'name': 'Bob', 'age': 22, 'city': 'New York'}.\n",
        "person3 = {'name': 'Bob', 'age': 22, 'city': 'New York'}\n",
        "del person3[\"age\"]\n",
        "print(person3)"
      ],
      "metadata": {
        "colab": {
          "base_uri": "https://localhost:8080/"
        },
        "id": "_XVWJv53DKwg",
        "outputId": "73530669-3f60-42ab-ba79-bb83167a93f1"
      },
      "execution_count": 29,
      "outputs": [
        {
          "output_type": "stream",
          "name": "stdout",
          "text": [
            "{'name': 'Bob', 'city': 'New York'}\n"
          ]
        }
      ]
    },
    {
      "cell_type": "code",
      "source": [
        "# Write a code to check if the key \"city\" exists in the dictionary {'name': 'Alice', 'city': 'Paris'}.\n",
        "person4 = {'name': 'Alice', 'city': 'Paris'}\n",
        "print(\"city\" in person4)"
      ],
      "metadata": {
        "colab": {
          "base_uri": "https://localhost:8080/"
        },
        "id": "E5jC92ANDd3r",
        "outputId": "97833655-5ca6-4090-8e57-8eab95a839ae"
      },
      "execution_count": 30,
      "outputs": [
        {
          "output_type": "stream",
          "name": "stdout",
          "text": [
            "True\n"
          ]
        }
      ]
    },
    {
      "cell_type": "code",
      "source": [
        "# Write a code to create a list, a tuple, and a dictionary, and print them all.\n",
        "lst = [1, 2, 3]\n",
        "tup = (4, 5, 6)\n",
        "dct = {\"name\": \"John\", \"age\": 25}\n",
        "print(lst, tup, dct)"
      ],
      "metadata": {
        "colab": {
          "base_uri": "https://localhost:8080/"
        },
        "id": "cpSYdgnBDt4o",
        "outputId": "e5c41218-68eb-4016-bf08-e45d1738c76f"
      },
      "execution_count": 31,
      "outputs": [
        {
          "output_type": "stream",
          "name": "stdout",
          "text": [
            "[1, 2, 3] (4, 5, 6) {'name': 'John', 'age': 25}\n"
          ]
        }
      ]
    },
    {
      "cell_type": "code",
      "source": [
        "# Write a code to create a list of 5 random numbers between 1 and 100, sort it in ascending order, and print the\n",
        "# result.(replaced)\n",
        "import random\n",
        "rand_list = [random.randint(1, 100) for _ in range(5)]\n",
        "rand_list.sort()\n",
        "print(rand_list)"
      ],
      "metadata": {
        "colab": {
          "base_uri": "https://localhost:8080/"
        },
        "id": "zwyOvWyDEHPF",
        "outputId": "d586a412-62c7-4332-cf1b-72694283a17b"
      },
      "execution_count": 33,
      "outputs": [
        {
          "output_type": "stream",
          "name": "stdout",
          "text": [
            "[7, 7, 10, 78, 80]\n"
          ]
        }
      ]
    },
    {
      "cell_type": "code",
      "source": [
        "# Write a code to create a list with strings and print the element at the third index.\n",
        "str_list = [\"apple\", \"banana\", \"cherry\", \"date\"]\n",
        "print(str_list[3])"
      ],
      "metadata": {
        "colab": {
          "base_uri": "https://localhost:8080/"
        },
        "id": "DCC-A_GAEXnV",
        "outputId": "349e3a83-4523-4460-e19e-8eed7c7256cb"
      },
      "execution_count": 34,
      "outputs": [
        {
          "output_type": "stream",
          "name": "stdout",
          "text": [
            "date\n"
          ]
        }
      ]
    },
    {
      "cell_type": "code",
      "source": [
        "# Write a code to combine two dictionaries into one and print the result.\n",
        "dict1 = {\"a\": 1, \"b\": 2}\n",
        "dict2 = {\"c\": 3, \"d\": 4}\n",
        "combined_dict = {**dict1, **dict2}\n",
        "print(combined_dict)"
      ],
      "metadata": {
        "colab": {
          "base_uri": "https://localhost:8080/"
        },
        "id": "ccH6azDrE-MG",
        "outputId": "b283dfb5-2a54-4e98-a060-268cec8911d1"
      },
      "execution_count": 35,
      "outputs": [
        {
          "output_type": "stream",
          "name": "stdout",
          "text": [
            "{'a': 1, 'b': 2, 'c': 3, 'd': 4}\n"
          ]
        }
      ]
    },
    {
      "cell_type": "code",
      "source": [
        "# Write a code to convert a list of strings into a set.\n",
        "list_strings = [\"apple\", \"banana\", \"apple\", \"cherry\"]\n",
        "print(set(list_strings))"
      ],
      "metadata": {
        "colab": {
          "base_uri": "https://localhost:8080/"
        },
        "id": "ph2lleowFbTt",
        "outputId": "d60f02e7-61e4-4b16-c854-072b645f353f"
      },
      "execution_count": 36,
      "outputs": [
        {
          "output_type": "stream",
          "name": "stdout",
          "text": [
            "{'cherry', 'apple', 'banana'}\n"
          ]
        }
      ]
    },
    {
      "cell_type": "code",
      "source": [],
      "metadata": {
        "id": "_oDEISAjFj_w"
      },
      "execution_count": null,
      "outputs": []
    }
  ]
}